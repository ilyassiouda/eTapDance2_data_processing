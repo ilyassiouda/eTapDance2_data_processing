{
 "cells": [
  {
   "cell_type": "code",
   "execution_count": 2,
   "metadata": {},
   "outputs": [],
   "source": [
    "%matplotlib inline\n",
    "import csv\n",
    "import numpy as np\n",
    "import pandas as pd\n",
    "from scipy.signal import *\n",
    "from numpy.fft import *\n",
    "import matplotlib.pyplot as plt\n",
    "plt.rcParams.update({'font.size': 15}) # pour augmenter la taille de caractère dans les graphiques\n",
    "from ipywidgets import * # Pour insérer des widgets (éléments graphiques) dans le notebook\n",
    "# Attention! Installer scikit-learn pour avoir accès aux algorithmes de classification\n",
    "# Installer version 0.20 au plus récente (0.22.1) pour avoir accès à la nouvelle fonction tree.plot_tree()\n",
    "from sklearn import tree\n",
    "from sklearn.neighbors import KNeighborsClassifier # Méthode KNN\n",
    "from sklearn.naive_bayes import GaussianNB\n",
    "from scipy.ndimage import interpolation"
   ]
  },
  {
   "cell_type": "code",
   "execution_count": 115,
   "metadata": {},
   "outputs": [],
   "source": [
    "def import_raw(step_type, file_nb=0, plot_fig=False, save_fig=False):\n",
    "    path_raw  =  'etapdance2' + '/' + step_type + '/' + step_type + '_full_' + str(file_nb) + '.txt'\n",
    "    data_raw_df = pd.read_csv(path_raw)\n",
    "    time = np.array(data_raw_df.iloc[:,0])\n",
    "    if plot_fig:\n",
    "        # Gyroscope 0 et 1 (x,y,z)\n",
    "        plt.figure(figsize=(15,6))\n",
    "        for n in range(1,len(data_raw_df.columns)-9):# pour récupérer juste les Gyro0\n",
    "            plt.plot(time,np.array(data_raw_df.iloc[:,n]),label=data_raw_df.columns[n])\n",
    "        for n in range(7,len(data_raw_df.columns)-3):# pour récupérer juste les Gyro1\n",
    "            plt.plot(time,np.array(data_raw_df.iloc[:,n]),label=data_raw_df.columns[n])\n",
    "        plt.ylabel('amplitude (deg/sec)')\n",
    "        plt.xlabel('échantillons (-)')\n",
    "        plt.autoscale(axis='x',tight=True);\n",
    "        plt.legend()\n",
    "        if save_fig:\n",
    "            plt.savefig(fname='data_raw_' + 'gyro_' + step_type +'.png')\n",
    "        plt.show()\n",
    "\n",
    "        # Accéléromètre 0 et 1 (x,y,z)   \n",
    "        plt.figure(figsize=(15,6))\n",
    "        for n in range(4,len(data_raw_df.columns)-6):# pour récupérer juste les Accel0\n",
    "            plt.plot(time,np.array(data_raw_df.iloc[:,n]),label=data_raw_df.columns[n])\n",
    "        for n in range(10,len(data_raw_df.columns)):# pour récupérer juste les Accel1\n",
    "            plt.plot(time,np.array(data_raw_df.iloc[:,n]),label=data_raw_df.columns[n])\n",
    "        plt.ylabel('amplitude (g)')\n",
    "        plt.xlabel('échantillons (-)')\n",
    "        plt.autoscale(axis='x',tight=True);\n",
    "        plt.legend()\n",
    "        if save_fig:\n",
    "            plt.savefig(fname='data_raw_' + 'accel_' + step_type +'.png')\n",
    "        plt.show()\n",
    "    return data_raw_df\n",
    "\n",
    "def STE_param(data_raw_df,f_ech, SecPerFrame):\n",
    "    data_length = len(data_raw_df)\n",
    "    sampsPerSec = f_ech\n",
    "    sampsPerFrame = int(sampsPerSec * SecPerFrame)\n",
    "    nFrames = int(data_length / sampsPerFrame)    \n",
    "    return sampsPerFrame, nFrames\n",
    "\n",
    "def STE_process(data_raw_df, sampsPerFrame, nFrames):\n",
    "    STEs = []\n",
    "    STEs_df = pd.Dataframe()\n",
    "    for k in range(nFrames):\n",
    "        startIdx = k * sampsPerFrame\n",
    "        stopIdx = startIdx + sampsPerFrame\n",
    "        window = np.zeros(data_raw_df.iloc[:,0].shape)\n",
    "        window[startIdx:stopIdx] = 1 # rectangular window\n",
    "        for n in range(1,len(data_raw_df.columns)-9):\n",
    "            STE = sum((data_raw_df.iloc[:,n] ** 2) * (window ** 2))\n",
    "            STEs.append(STE)\n",
    "        \n",
    "    return STEs"
   ]
  },
  {
   "cell_type": "code",
   "execution_count": 114,
   "metadata": {},
   "outputs": [],
   "source": [
    "raw_df = import_raw(step_type='step')\n",
    "samp_per_frame, n_frames = STE_param(raw_df,f_ech=91, SecPerFrame =0.09)\n",
    "pouet = STE_process(raw_df,samp_per_frame, n_frames)"
   ]
  },
  {
   "cell_type": "code",
   "execution_count": null,
   "metadata": {},
   "outputs": [],
   "source": []
  }
 ],
 "metadata": {
  "kernelspec": {
   "display_name": "Python 3",
   "language": "python",
   "name": "python3"
  },
  "language_info": {
   "codemirror_mode": {
    "name": "ipython",
    "version": 3
   },
   "file_extension": ".py",
   "mimetype": "text/x-python",
   "name": "python",
   "nbconvert_exporter": "python",
   "pygments_lexer": "ipython3",
   "version": "3.7.7"
  }
 },
 "nbformat": 4,
 "nbformat_minor": 4
}
